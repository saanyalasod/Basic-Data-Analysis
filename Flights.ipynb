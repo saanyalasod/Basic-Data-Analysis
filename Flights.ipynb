{
 "cells": [
  {
   "cell_type": "code",
   "execution_count": 1,
   "metadata": {},
   "outputs": [],
   "source": [
    "#importing required libraries\n",
    "import numpy as np \n",
    "import pandas as pd "
   ]
  },
  {
   "cell_type": "code",
   "execution_count": 2,
   "metadata": {},
   "outputs": [
    {
     "data": {
      "text/html": [
       "<div>\n",
       "<style scoped>\n",
       "    .dataframe tbody tr th:only-of-type {\n",
       "        vertical-align: middle;\n",
       "    }\n",
       "\n",
       "    .dataframe tbody tr th {\n",
       "        vertical-align: top;\n",
       "    }\n",
       "\n",
       "    .dataframe thead th {\n",
       "        text-align: right;\n",
       "    }\n",
       "</style>\n",
       "<table border=\"1\" class=\"dataframe\">\n",
       "  <thead>\n",
       "    <tr style=\"text-align: right;\">\n",
       "      <th></th>\n",
       "      <th>year</th>\n",
       "      <th>month</th>\n",
       "      <th>day</th>\n",
       "      <th>dep_time</th>\n",
       "      <th>sched_dep_time</th>\n",
       "      <th>dep_delay</th>\n",
       "      <th>arr_time</th>\n",
       "      <th>sched_arr_time</th>\n",
       "      <th>arr_delay</th>\n",
       "      <th>carrier</th>\n",
       "      <th>flight</th>\n",
       "      <th>tailnum</th>\n",
       "      <th>origin</th>\n",
       "      <th>dest</th>\n",
       "      <th>air_time</th>\n",
       "      <th>distance</th>\n",
       "      <th>hour</th>\n",
       "      <th>minute</th>\n",
       "      <th>time_hour</th>\n",
       "    </tr>\n",
       "  </thead>\n",
       "  <tbody>\n",
       "    <tr>\n",
       "      <th>0</th>\n",
       "      <td>2013</td>\n",
       "      <td>1</td>\n",
       "      <td>1</td>\n",
       "      <td>517.0</td>\n",
       "      <td>515</td>\n",
       "      <td>2.0</td>\n",
       "      <td>830.0</td>\n",
       "      <td>819</td>\n",
       "      <td>11.0</td>\n",
       "      <td>UA</td>\n",
       "      <td>1545</td>\n",
       "      <td>N14228</td>\n",
       "      <td>EWR</td>\n",
       "      <td>IAH</td>\n",
       "      <td>227.0</td>\n",
       "      <td>1400</td>\n",
       "      <td>5</td>\n",
       "      <td>15</td>\n",
       "      <td>2013-01-01T10:00:00Z</td>\n",
       "    </tr>\n",
       "    <tr>\n",
       "      <th>1</th>\n",
       "      <td>2013</td>\n",
       "      <td>1</td>\n",
       "      <td>1</td>\n",
       "      <td>533.0</td>\n",
       "      <td>529</td>\n",
       "      <td>4.0</td>\n",
       "      <td>850.0</td>\n",
       "      <td>830</td>\n",
       "      <td>20.0</td>\n",
       "      <td>UA</td>\n",
       "      <td>1714</td>\n",
       "      <td>N24211</td>\n",
       "      <td>LGA</td>\n",
       "      <td>IAH</td>\n",
       "      <td>227.0</td>\n",
       "      <td>1416</td>\n",
       "      <td>5</td>\n",
       "      <td>29</td>\n",
       "      <td>2013-01-01T10:00:00Z</td>\n",
       "    </tr>\n",
       "    <tr>\n",
       "      <th>2</th>\n",
       "      <td>2013</td>\n",
       "      <td>1</td>\n",
       "      <td>1</td>\n",
       "      <td>542.0</td>\n",
       "      <td>540</td>\n",
       "      <td>2.0</td>\n",
       "      <td>923.0</td>\n",
       "      <td>850</td>\n",
       "      <td>33.0</td>\n",
       "      <td>AA</td>\n",
       "      <td>1141</td>\n",
       "      <td>N619AA</td>\n",
       "      <td>JFK</td>\n",
       "      <td>MIA</td>\n",
       "      <td>160.0</td>\n",
       "      <td>1089</td>\n",
       "      <td>5</td>\n",
       "      <td>40</td>\n",
       "      <td>2013-01-01T10:00:00Z</td>\n",
       "    </tr>\n",
       "    <tr>\n",
       "      <th>3</th>\n",
       "      <td>2013</td>\n",
       "      <td>1</td>\n",
       "      <td>1</td>\n",
       "      <td>544.0</td>\n",
       "      <td>545</td>\n",
       "      <td>-1.0</td>\n",
       "      <td>1004.0</td>\n",
       "      <td>1022</td>\n",
       "      <td>-18.0</td>\n",
       "      <td>B6</td>\n",
       "      <td>725</td>\n",
       "      <td>N804JB</td>\n",
       "      <td>JFK</td>\n",
       "      <td>BQN</td>\n",
       "      <td>183.0</td>\n",
       "      <td>1576</td>\n",
       "      <td>5</td>\n",
       "      <td>45</td>\n",
       "      <td>2013-01-01T10:00:00Z</td>\n",
       "    </tr>\n",
       "    <tr>\n",
       "      <th>4</th>\n",
       "      <td>2013</td>\n",
       "      <td>1</td>\n",
       "      <td>1</td>\n",
       "      <td>554.0</td>\n",
       "      <td>600</td>\n",
       "      <td>-6.0</td>\n",
       "      <td>812.0</td>\n",
       "      <td>837</td>\n",
       "      <td>-25.0</td>\n",
       "      <td>DL</td>\n",
       "      <td>461</td>\n",
       "      <td>N668DN</td>\n",
       "      <td>LGA</td>\n",
       "      <td>ATL</td>\n",
       "      <td>116.0</td>\n",
       "      <td>762</td>\n",
       "      <td>6</td>\n",
       "      <td>0</td>\n",
       "      <td>2013-01-01T11:00:00Z</td>\n",
       "    </tr>\n",
       "  </tbody>\n",
       "</table>\n",
       "</div>"
      ],
      "text/plain": [
       "   year  month  day  dep_time  sched_dep_time  dep_delay  arr_time  \\\n",
       "0  2013      1    1     517.0             515        2.0     830.0   \n",
       "1  2013      1    1     533.0             529        4.0     850.0   \n",
       "2  2013      1    1     542.0             540        2.0     923.0   \n",
       "3  2013      1    1     544.0             545       -1.0    1004.0   \n",
       "4  2013      1    1     554.0             600       -6.0     812.0   \n",
       "\n",
       "   sched_arr_time  arr_delay carrier  flight tailnum origin dest  air_time  \\\n",
       "0             819       11.0      UA    1545  N14228    EWR  IAH     227.0   \n",
       "1             830       20.0      UA    1714  N24211    LGA  IAH     227.0   \n",
       "2             850       33.0      AA    1141  N619AA    JFK  MIA     160.0   \n",
       "3            1022      -18.0      B6     725  N804JB    JFK  BQN     183.0   \n",
       "4             837      -25.0      DL     461  N668DN    LGA  ATL     116.0   \n",
       "\n",
       "   distance  hour  minute             time_hour  \n",
       "0      1400     5      15  2013-01-01T10:00:00Z  \n",
       "1      1416     5      29  2013-01-01T10:00:00Z  \n",
       "2      1089     5      40  2013-01-01T10:00:00Z  \n",
       "3      1576     5      45  2013-01-01T10:00:00Z  \n",
       "4       762     6       0  2013-01-01T11:00:00Z  "
      ]
     },
     "execution_count": 2,
     "metadata": {},
     "output_type": "execute_result"
    }
   ],
   "source": [
    "df=pd.read_csv(\"flights.csv\")\n",
    "df.head()   #printing out 5 rows of our dataset"
   ]
  },
  {
   "cell_type": "code",
   "execution_count": 3,
   "metadata": {},
   "outputs": [
    {
     "data": {
      "text/plain": [
       "year                 0\n",
       "month                0\n",
       "day                  0\n",
       "dep_time          8255\n",
       "sched_dep_time       0\n",
       "dep_delay         8255\n",
       "arr_time          8713\n",
       "sched_arr_time       0\n",
       "arr_delay         9430\n",
       "carrier              0\n",
       "flight               0\n",
       "tailnum           2512\n",
       "origin               0\n",
       "dest                 0\n",
       "air_time          9430\n",
       "distance             0\n",
       "hour                 0\n",
       "minute               0\n",
       "time_hour            0\n",
       "dtype: int64"
      ]
     },
     "execution_count": 3,
     "metadata": {},
     "output_type": "execute_result"
    }
   ],
   "source": [
    "df.isnull().sum()  #checking how many null values are in our dataset for future purposes"
   ]
  },
  {
   "cell_type": "markdown",
   "metadata": {},
   "source": [
    "Q4. Had an delay in arrival of 3 or less hours"
   ]
  },
  {
   "cell_type": "code",
   "execution_count": 4,
   "metadata": {},
   "outputs": [
    {
     "data": {
      "text/plain": [
       "(336776, 19)"
      ]
     },
     "execution_count": 4,
     "metadata": {},
     "output_type": "execute_result"
    }
   ],
   "source": [
    "df.shape #shape of our dataset"
   ]
  },
  {
   "cell_type": "code",
   "execution_count": 5,
   "metadata": {},
   "outputs": [],
   "source": [
    "a=df.dropna(axis=0,subset=['arr_delay'])  \n",
    "#dropping null values"
   ]
  },
  {
   "cell_type": "code",
   "execution_count": 6,
   "metadata": {},
   "outputs": [
    {
     "data": {
      "text/plain": [
       "(327346, 19)"
      ]
     },
     "execution_count": 6,
     "metadata": {},
     "output_type": "execute_result"
    }
   ],
   "source": [
    "a.shape  #shape of our dataset after dropping null values"
   ]
  },
  {
   "cell_type": "code",
   "execution_count": 7,
   "metadata": {},
   "outputs": [
    {
     "name": "stdout",
     "output_type": "stream",
     "text": [
      "        year  month  day  dep_time  sched_dep_time  dep_delay  arr_time  \\\n",
      "0       2013      1    1     517.0             515        2.0     830.0   \n",
      "1       2013      1    1     533.0             529        4.0     850.0   \n",
      "2       2013      1    1     542.0             540        2.0     923.0   \n",
      "3       2013      1    1     544.0             545       -1.0    1004.0   \n",
      "4       2013      1    1     554.0             600       -6.0     812.0   \n",
      "...      ...    ...  ...       ...             ...        ...       ...   \n",
      "336765  2013      9   30    2240.0            2245       -5.0    2334.0   \n",
      "336766  2013      9   30    2240.0            2250      -10.0    2347.0   \n",
      "336767  2013      9   30    2241.0            2246       -5.0    2345.0   \n",
      "336768  2013      9   30    2307.0            2255       12.0    2359.0   \n",
      "336769  2013      9   30    2349.0            2359      -10.0     325.0   \n",
      "\n",
      "        sched_arr_time  arr_delay carrier  flight tailnum origin dest  \\\n",
      "0                  819       11.0      UA    1545  N14228    EWR  IAH   \n",
      "1                  830       20.0      UA    1714  N24211    LGA  IAH   \n",
      "2                  850       33.0      AA    1141  N619AA    JFK  MIA   \n",
      "3                 1022      -18.0      B6     725  N804JB    JFK  BQN   \n",
      "4                  837      -25.0      DL     461  N668DN    LGA  ATL   \n",
      "...                ...        ...     ...     ...     ...    ...  ...   \n",
      "336765            2351      -17.0      B6    1816  N354JB    JFK  SYR   \n",
      "336766               7      -20.0      B6    2002  N281JB    JFK  BUF   \n",
      "336767               1      -16.0      B6     486  N346JB    JFK  ROC   \n",
      "336768            2358        1.0      B6     718  N565JB    JFK  BOS   \n",
      "336769             350      -25.0      B6     745  N516JB    JFK  PSE   \n",
      "\n",
      "        air_time  distance  hour  minute             time_hour  \n",
      "0          227.0      1400     5      15  2013-01-01T10:00:00Z  \n",
      "1          227.0      1416     5      29  2013-01-01T10:00:00Z  \n",
      "2          160.0      1089     5      40  2013-01-01T10:00:00Z  \n",
      "3          183.0      1576     5      45  2013-01-01T10:00:00Z  \n",
      "4          116.0       762     6       0  2013-01-01T11:00:00Z  \n",
      "...          ...       ...   ...     ...                   ...  \n",
      "336765      41.0       209    22      45  2013-10-01T02:00:00Z  \n",
      "336766      52.0       301    22      50  2013-10-01T02:00:00Z  \n",
      "336767      47.0       264    22      46  2013-10-01T02:00:00Z  \n",
      "336768      33.0       187    22      55  2013-10-01T02:00:00Z  \n",
      "336769     196.0      1617    23      59  2013-10-01T03:00:00Z  \n",
      "\n",
      "[323503 rows x 19 columns]\n"
     ]
    }
   ],
   "source": [
    "delay = a[a['arr_delay'] <=180]  #180, because our data is in minutes\n",
    "print(delay)"
   ]
  },
  {
   "cell_type": "markdown",
   "metadata": {},
   "source": [
    "Q5. Flew to Houston (IAH or HOU)"
   ]
  },
  {
   "cell_type": "code",
   "execution_count": 8,
   "metadata": {},
   "outputs": [
    {
     "name": "stdout",
     "output_type": "stream",
     "text": [
      "        year  month  day  dep_time  sched_dep_time  dep_delay  arr_time  \\\n",
      "0       2013      1    1     517.0             515        2.0     830.0   \n",
      "1       2013      1    1     533.0             529        4.0     850.0   \n",
      "32      2013      1    1     623.0             627       -4.0     933.0   \n",
      "81      2013      1    1     728.0             732       -4.0    1041.0   \n",
      "89      2013      1    1     739.0             739        0.0    1104.0   \n",
      "...      ...    ...  ...       ...             ...        ...       ...   \n",
      "336524  2013      9   30    1729.0            1720        9.0    2001.0   \n",
      "336527  2013      9   30    1735.0            1715       20.0    2010.0   \n",
      "336618  2013      9   30    1859.0            1859        0.0    2134.0   \n",
      "336694  2013      9   30    2015.0            2015        0.0    2244.0   \n",
      "336737  2013      9   30    2105.0            2106       -1.0    2329.0   \n",
      "\n",
      "        sched_arr_time  arr_delay carrier  flight tailnum origin dest  \\\n",
      "0                  819       11.0      UA    1545  N14228    EWR  IAH   \n",
      "1                  830       20.0      UA    1714  N24211    LGA  IAH   \n",
      "32                 932        1.0      UA     496  N459UA    LGA  IAH   \n",
      "81                1038        3.0      UA     473  N488UA    LGA  IAH   \n",
      "89                1038       26.0      UA    1479  N37408    EWR  IAH   \n",
      "...                ...        ...     ...     ...     ...    ...  ...   \n",
      "336524            2010       -9.0      UA     652  N455UA    EWR  IAH   \n",
      "336527            2005        5.0      WN    2067  N296WN    EWR  HOU   \n",
      "336618            2159      -25.0      UA    1128  N14731    LGA  IAH   \n",
      "336694            2307      -23.0      UA    1545  N17730    EWR  IAH   \n",
      "336737            2354      -25.0      UA     475  N477UA    EWR  IAH   \n",
      "\n",
      "        air_time  distance  hour  minute             time_hour  \n",
      "0          227.0      1400     5      15  2013-01-01T10:00:00Z  \n",
      "1          227.0      1416     5      29  2013-01-01T10:00:00Z  \n",
      "32         229.0      1416     6      27  2013-01-01T11:00:00Z  \n",
      "81         238.0      1416     7      32  2013-01-01T12:00:00Z  \n",
      "89         249.0      1400     7      39  2013-01-01T12:00:00Z  \n",
      "...          ...       ...   ...     ...                   ...  \n",
      "336524     173.0      1400    17      20  2013-09-30T21:00:00Z  \n",
      "336527     188.0      1411    17      15  2013-09-30T21:00:00Z  \n",
      "336618     180.0      1416    18      59  2013-09-30T22:00:00Z  \n",
      "336694     174.0      1400    20      15  2013-10-01T00:00:00Z  \n",
      "336737     175.0      1400    21       6  2013-10-01T01:00:00Z  \n",
      "\n",
      "[9313 rows x 19 columns]\n"
     ]
    }
   ],
   "source": [
    "destination=df[(df['dest']==\"IAH\") | (df['dest']==\"HOU\")] # | indicates 'or'\n",
    "print(destination)"
   ]
  },
  {
   "cell_type": "markdown",
   "metadata": {},
   "source": [
    "Q6. Were operated by United, American, or Delta"
   ]
  },
  {
   "cell_type": "code",
   "execution_count": 9,
   "metadata": {},
   "outputs": [
    {
     "name": "stdout",
     "output_type": "stream",
     "text": [
      "        year  month  day  dep_time  sched_dep_time  dep_delay  arr_time  \\\n",
      "0       2013      1    1     517.0             515        2.0     830.0   \n",
      "1       2013      1    1     533.0             529        4.0     850.0   \n",
      "2       2013      1    1     542.0             540        2.0     923.0   \n",
      "4       2013      1    1     554.0             600       -6.0     812.0   \n",
      "5       2013      1    1     554.0             558       -4.0     740.0   \n",
      "...      ...    ...  ...       ...             ...        ...       ...   \n",
      "336737  2013      9   30    2105.0            2106       -1.0    2329.0   \n",
      "336744  2013      9   30    2121.0            2100       21.0    2349.0   \n",
      "336751  2013      9   30    2140.0            2140        0.0      10.0   \n",
      "336755  2013      9   30    2149.0            2156       -7.0    2245.0   \n",
      "336762  2013      9   30    2233.0            2113       80.0     112.0   \n",
      "\n",
      "        sched_arr_time  arr_delay carrier  flight tailnum origin dest  \\\n",
      "0                  819       11.0      UA    1545  N14228    EWR  IAH   \n",
      "1                  830       20.0      UA    1714  N24211    LGA  IAH   \n",
      "2                  850       33.0      AA    1141  N619AA    JFK  MIA   \n",
      "4                  837      -25.0      DL     461  N668DN    LGA  ATL   \n",
      "5                  728       12.0      UA    1696  N39463    EWR  ORD   \n",
      "...                ...        ...     ...     ...     ...    ...  ...   \n",
      "336737            2354      -25.0      UA     475  N477UA    EWR  IAH   \n",
      "336744              14      -25.0      DL    2363  N193DN    JFK  LAX   \n",
      "336751              40      -30.0      AA     185  N335AA    JFK  LAX   \n",
      "336755            2308      -23.0      UA     523  N813UA    EWR  BOS   \n",
      "336762              30       42.0      UA     471  N578UA    EWR  SFO   \n",
      "\n",
      "        air_time  distance  hour  minute             time_hour  \n",
      "0          227.0      1400     5      15  2013-01-01T10:00:00Z  \n",
      "1          227.0      1416     5      29  2013-01-01T10:00:00Z  \n",
      "2          160.0      1089     5      40  2013-01-01T10:00:00Z  \n",
      "4          116.0       762     6       0  2013-01-01T11:00:00Z  \n",
      "5          150.0       719     5      58  2013-01-01T10:00:00Z  \n",
      "...          ...       ...   ...     ...                   ...  \n",
      "336737     175.0      1400    21       6  2013-10-01T01:00:00Z  \n",
      "336744     296.0      2475    21       0  2013-10-01T01:00:00Z  \n",
      "336751     298.0      2475    21      40  2013-10-01T01:00:00Z  \n",
      "336755      37.0       200    21      56  2013-10-01T01:00:00Z  \n",
      "336762     318.0      2565    21      13  2013-10-01T01:00:00Z  \n",
      "\n",
      "[139504 rows x 19 columns]\n"
     ]
    }
   ],
   "source": [
    "companies=df[(df['carrier']==\"UA\") | (df['carrier']==\"AA\")| (df['carrier']==\"DL\")]  # | indicates 'or' for multiple datasets\n",
    "print(companies)"
   ]
  },
  {
   "cell_type": "markdown",
   "metadata": {},
   "source": [
    "Q7. Departed in summer (July, August, and September)"
   ]
  },
  {
   "cell_type": "code",
   "execution_count": 10,
   "metadata": {},
   "outputs": [
    {
     "name": "stdout",
     "output_type": "stream",
     "text": [
      "        year  month  day  dep_time  sched_dep_time  dep_delay  arr_time  \\\n",
      "250450  2013      7    1       1.0            2029      212.0     236.0   \n",
      "250451  2013      7    1       2.0            2359        3.0     344.0   \n",
      "250452  2013      7    1      29.0            2245      104.0     151.0   \n",
      "250453  2013      7    1      43.0            2130      193.0     322.0   \n",
      "250454  2013      7    1      44.0            2150      174.0     300.0   \n",
      "...      ...    ...  ...       ...             ...        ...       ...   \n",
      "336771  2013      9   30       NaN            1455        NaN       NaN   \n",
      "336772  2013      9   30       NaN            2200        NaN       NaN   \n",
      "336773  2013      9   30       NaN            1210        NaN       NaN   \n",
      "336774  2013      9   30       NaN            1159        NaN       NaN   \n",
      "336775  2013      9   30       NaN             840        NaN       NaN   \n",
      "\n",
      "        sched_arr_time  arr_delay carrier  flight tailnum origin dest  \\\n",
      "250450            2359      157.0      B6     915  N653JB    JFK  SFO   \n",
      "250451             344        0.0      B6    1503  N805JB    JFK  SJU   \n",
      "250452               1      110.0      B6     234  N348JB    JFK  BTV   \n",
      "250453              14      188.0      B6    1371  N794JB    LGA  FLL   \n",
      "250454             100      120.0      AA     185  N324AA    JFK  LAX   \n",
      "...                ...        ...     ...     ...     ...    ...  ...   \n",
      "336771            1634        NaN      9E    3393     NaN    JFK  DCA   \n",
      "336772            2312        NaN      9E    3525     NaN    LGA  SYR   \n",
      "336773            1330        NaN      MQ    3461  N535MQ    LGA  BNA   \n",
      "336774            1344        NaN      MQ    3572  N511MQ    LGA  CLE   \n",
      "336775            1020        NaN      MQ    3531  N839MQ    LGA  RDU   \n",
      "\n",
      "        air_time  distance  hour  minute             time_hour  \n",
      "250450     315.0      2586    20      29  2013-07-02T00:00:00Z  \n",
      "250451     200.0      1598    23      59  2013-07-02T03:00:00Z  \n",
      "250452      66.0       266    22      45  2013-07-02T02:00:00Z  \n",
      "250453     143.0      1076    21      30  2013-07-02T01:00:00Z  \n",
      "250454     297.0      2475    21      50  2013-07-02T01:00:00Z  \n",
      "...          ...       ...   ...     ...                   ...  \n",
      "336771       NaN       213    14      55  2013-09-30T18:00:00Z  \n",
      "336772       NaN       198    22       0  2013-10-01T02:00:00Z  \n",
      "336773       NaN       764    12      10  2013-09-30T16:00:00Z  \n",
      "336774       NaN       419    11      59  2013-09-30T15:00:00Z  \n",
      "336775       NaN       431     8      40  2013-09-30T12:00:00Z  \n",
      "\n",
      "[86326 rows x 19 columns]\n"
     ]
    }
   ],
   "source": [
    "season=df[(df['month']==7) | (df['month']==8)| (df['month']==9)]\n",
    "print(season)"
   ]
  },
  {
   "cell_type": "markdown",
   "metadata": {},
   "source": [
    " Q8. Arrived more than two hours late, but didn???t leave late"
   ]
  },
  {
   "cell_type": "code",
   "execution_count": 11,
   "metadata": {},
   "outputs": [],
   "source": [
    "a=df.dropna(axis=0,subset=['arr_delay'])  \n",
    "a=df.dropna(axis=0,subset=['dep_delay']) #dropping null values in both the columns"
   ]
  },
  {
   "cell_type": "code",
   "execution_count": 12,
   "metadata": {},
   "outputs": [
    {
     "name": "stdout",
     "output_type": "stream",
     "text": [
      "        year  month  day  dep_time  sched_dep_time  dep_delay  arr_time  \\\n",
      "33011   2013     10    7    1350.0            1350        0.0    1736.0   \n",
      "214512  2013      5   23    1810.0            1810        0.0    2208.0   \n",
      "250689  2013      7    1     905.0             905        0.0    1443.0   \n",
      "\n",
      "        sched_arr_time  arr_delay carrier  flight tailnum origin dest  \\\n",
      "33011             1526      130.0      EV    5181  N611QX    LGA  MSN   \n",
      "214512            2000      128.0      MQ    4626  N525MQ    LGA  CMH   \n",
      "250689            1223      140.0      DL    1057  N337NB    LGA  MIA   \n",
      "\n",
      "        air_time  distance  hour  minute             time_hour  \n",
      "33011      117.0       812    13      50  2013-10-07T17:00:00Z  \n",
      "214512      82.0       479    18      10  2013-05-23T22:00:00Z  \n",
      "250689     183.0      1096     9       5  2013-07-01T13:00:00Z  \n"
     ]
    }
   ],
   "source": [
    "arr=a['arr_delay']>=120\n",
    "dep=a['dep_delay']==0\n",
    "print(a[arr & dep])"
   ]
  },
  {
   "cell_type": "markdown",
   "metadata": {},
   "source": [
    "Q9. Were delayed by at least an hour, but made up over 30 minutes in flight"
   ]
  },
  {
   "cell_type": "code",
   "execution_count": 13,
   "metadata": {},
   "outputs": [],
   "source": [
    "a=df.dropna(axis=0,subset=['arr_delay'])  \n",
    "a=df.dropna(axis=0,subset=['dep_delay']) #dropping null values in both the columns"
   ]
  },
  {
   "cell_type": "code",
   "execution_count": 14,
   "metadata": {},
   "outputs": [
    {
     "name": "stdout",
     "output_type": "stream",
     "text": [
      "        year  month  day  dep_time  sched_dep_time  dep_delay  arr_time  \\\n",
      "593     2013      1    1    1716.0            1545       91.0    2140.0   \n",
      "815     2013      1    1    2205.0            1720      285.0      46.0   \n",
      "832     2013      1    1    2326.0            2130      116.0     131.0   \n",
      "2286    2013      1    3    1503.0            1221      162.0    1803.0   \n",
      "2495    2013      1    3    1821.0            1530      171.0    2131.0   \n",
      "...      ...    ...  ...       ...             ...        ...       ...   \n",
      "336572  2013      9   30    1818.0            1715       63.0    2001.0   \n",
      "336579  2013      9   30    1823.0            1545      158.0    1934.0   \n",
      "336674  2013      9   30    1956.0            1825       91.0    2208.0   \n",
      "336704  2013      9   30    2028.0            1910       78.0    2255.0   \n",
      "336762  2013      9   30    2233.0            2113       80.0     112.0   \n",
      "\n",
      "        sched_arr_time  arr_delay carrier  flight tailnum origin dest  \\\n",
      "593               2039       61.0      B6     703  N651JB    JFK  SJU   \n",
      "815               2040      246.0      AA    1999  N5DNAA    EWR  MIA   \n",
      "832                 18       73.0      B6     199  N594JB    JFK  LAS   \n",
      "2286              1555      128.0      UA     551  N835UA    EWR  SFO   \n",
      "2495              1910      141.0      AA      85  N357AA    JFK  SFO   \n",
      "...                ...        ...     ...     ...     ...    ...  ...   \n",
      "336572            1940       21.0      9E    3310  N934XJ    JFK  MCI   \n",
      "336579            1733      121.0      9E    3459  N916XJ    JFK  BNA   \n",
      "336674            2121       47.0      DL    1576  N3772H    JFK  SAN   \n",
      "336704            2215       40.0      AA      21  N338AA    JFK  LAX   \n",
      "336762              30       42.0      UA     471  N578UA    EWR  SFO   \n",
      "\n",
      "        air_time  distance  hour  minute             time_hour  \n",
      "593        183.0      1598    15      45  2013-01-01T20:00:00Z  \n",
      "815        146.0      1085    17      20  2013-01-01T22:00:00Z  \n",
      "832        290.0      2248    21      30  2013-01-02T02:00:00Z  \n",
      "2286       320.0      2565    12      21  2013-01-03T17:00:00Z  \n",
      "2495       328.0      2586    15      30  2013-01-03T20:00:00Z  \n",
      "...          ...       ...   ...     ...                   ...  \n",
      "336572     142.0      1113    17      15  2013-09-30T21:00:00Z  \n",
      "336579      95.0       765    15      45  2013-09-30T19:00:00Z  \n",
      "336674     292.0      2446    18      25  2013-09-30T22:00:00Z  \n",
      "336704     294.0      2475    19      10  2013-09-30T23:00:00Z  \n",
      "336762     318.0      2565    21      13  2013-10-01T01:00:00Z  \n",
      "\n",
      "[2074 rows x 19 columns]\n"
     ]
    }
   ],
   "source": [
    "cover = a[(a['dep_delay']>=60) &(a['dep_delay'] - a['arr_delay'] >=30)]\n",
    "print(cover)"
   ]
  },
  {
   "cell_type": "markdown",
   "metadata": {},
   "source": [
    "Q10. Departed between midnight and 6am (inclusive)"
   ]
  },
  {
   "cell_type": "code",
   "execution_count": 15,
   "metadata": {},
   "outputs": [],
   "source": [
    "a=df.dropna(axis=0,subset=['dep_time']) #dropping null values "
   ]
  },
  {
   "cell_type": "code",
   "execution_count": 16,
   "metadata": {},
   "outputs": [
    {
     "name": "stdout",
     "output_type": "stream",
     "text": [
      "        year  month  day  dep_time  sched_dep_time  dep_delay  arr_time  \\\n",
      "0       2013      1    1     517.0             515        2.0     830.0   \n",
      "1       2013      1    1     533.0             529        4.0     850.0   \n",
      "2       2013      1    1     542.0             540        2.0     923.0   \n",
      "3       2013      1    1     544.0             545       -1.0    1004.0   \n",
      "4       2013      1    1     554.0             600       -6.0     812.0   \n",
      "...      ...    ...  ...       ...             ...        ...       ...   \n",
      "335802  2013      9   30     557.0             600       -3.0     852.0   \n",
      "335803  2013      9   30     558.0             600       -2.0     815.0   \n",
      "335804  2013      9   30     558.0             600       -2.0     742.0   \n",
      "335805  2013      9   30     559.0             600       -1.0       NaN   \n",
      "335806  2013      9   30     600.0             600        0.0     844.0   \n",
      "\n",
      "        sched_arr_time  arr_delay carrier  flight tailnum origin dest  \\\n",
      "0                  819       11.0      UA    1545  N14228    EWR  IAH   \n",
      "1                  830       20.0      UA    1714  N24211    LGA  IAH   \n",
      "2                  850       33.0      AA    1141  N619AA    JFK  MIA   \n",
      "3                 1022      -18.0      B6     725  N804JB    JFK  BQN   \n",
      "4                  837      -25.0      DL     461  N668DN    LGA  ATL   \n",
      "...                ...        ...     ...     ...     ...    ...  ...   \n",
      "335802             923      -31.0      UA     303  N510UA    JFK  SFO   \n",
      "335803             829      -14.0      EV    4137  N16981    EWR  ATL   \n",
      "335804             749       -7.0      DL     731  N337NB    LGA  DTW   \n",
      "335805             715        NaN      WN     464  N411WN    EWR  MDW   \n",
      "335806             856      -12.0      B6     601  N588JB    JFK  FLL   \n",
      "\n",
      "        air_time  distance  hour  minute             time_hour  \n",
      "0          227.0      1400     5      15  2013-01-01T10:00:00Z  \n",
      "1          227.0      1416     5      29  2013-01-01T10:00:00Z  \n",
      "2          160.0      1089     5      40  2013-01-01T10:00:00Z  \n",
      "3          183.0      1576     5      45  2013-01-01T10:00:00Z  \n",
      "4          116.0       762     6       0  2013-01-01T11:00:00Z  \n",
      "...          ...       ...   ...     ...                   ...  \n",
      "335802     326.0      2586     6       0  2013-09-30T10:00:00Z  \n",
      "335803     107.0       746     6       0  2013-09-30T10:00:00Z  \n",
      "335804      83.0       502     6       0  2013-09-30T10:00:00Z  \n",
      "335805       NaN       711     6       0  2013-09-30T10:00:00Z  \n",
      "335806     139.0      1069     6       0  2013-09-30T10:00:00Z  \n",
      "\n",
      "[9373 rows x 19 columns]\n"
     ]
    }
   ],
   "source": [
    "time=a[(a['dep_time']==2400) | (a['dep_time']<=600)]  #2400 denotes midnight and 600 denotes 6am, acc to the format of our data\n",
    "print(time)"
   ]
  },
  {
   "cell_type": "code",
   "execution_count": 1,
   "metadata": {},
   "outputs": [
    {
     "name": "stdout",
     "output_type": "stream",
     "text": [
      "Submitted by- Saanya Lasod\n"
     ]
    }
   ],
   "source": [
    "print(\"Submitted by- Saanya Lasod\")"
   ]
  },
  {
   "cell_type": "code",
   "execution_count": null,
   "metadata": {},
   "outputs": [],
   "source": []
  }
 ],
 "metadata": {
  "kernelspec": {
   "display_name": "Python 3",
   "language": "python",
   "name": "python3"
  },
  "language_info": {
   "codemirror_mode": {
    "name": "ipython",
    "version": 3
   },
   "file_extension": ".py",
   "mimetype": "text/x-python",
   "name": "python",
   "nbconvert_exporter": "python",
   "pygments_lexer": "ipython3",
   "version": "3.7.6"
  }
 },
 "nbformat": 4,
 "nbformat_minor": 4
}
